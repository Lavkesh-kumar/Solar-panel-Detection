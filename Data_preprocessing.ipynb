{
  "nbformat": 4,
  "nbformat_minor": 0,
  "metadata": {
    "colab": {
      "provenance": [],
      "gpuType": "T4",
      "mount_file_id": "1RsSKAt2q5NiGYwjXbatah2Ib0Em7kP7X",
      "authorship_tag": "ABX9TyPA4SRizXzJ0icToT7X4icI",
      "include_colab_link": true
    },
    "kernelspec": {
      "name": "python3",
      "display_name": "Python 3"
    },
    "language_info": {
      "name": "python"
    },
    "accelerator": "GPU"
  },
  "cells": [
    {
      "cell_type": "markdown",
      "metadata": {
        "id": "view-in-github",
        "colab_type": "text"
      },
      "source": [
        "<a href=\"https://colab.research.google.com/github/Lavkesh-kumar/Solar-panel-Detection/blob/main/Data_preprocessing.ipynb\" target=\"_parent\"><img src=\"https://colab.research.google.com/assets/colab-badge.svg\" alt=\"Open In Colab\"/></a>"
      ]
    },
    {
      "cell_type": "code",
      "execution_count": 1,
      "metadata": {
        "id": "Dw-AC1s0prsX"
      },
      "outputs": [],
      "source": [
        "# from google.colab import drive\n",
        "# drive.mount('/gdrive')\n",
        "# %cd /gdrive"
      ]
    },
    {
      "cell_type": "code",
      "source": [
        "# Prepare folder structure\n",
        "PROJECT_FOLDER = \"/content/drive/MyDrive/Solar panel detection/\"\n",
        "DATA_FOLDER = \"/home/data/\"\n",
        "TRAIN_DATA_FOLDER = PROJECT_FOLDER + 'unziped_train/'\n",
        "TEST_DATA_FOLDER = PROJECT_FOLDER + 'unziped_evaluation/'\n",
        "SAMPLE_DATA_FOLDER = PROJECT_FOLDER + 'unziped_sample/'"
      ],
      "metadata": {
        "id": "1TEEoxsGp0_O"
      },
      "execution_count": 2,
      "outputs": []
    },
    {
      "cell_type": "code",
      "source": [
        "import os\n",
        "import random\n",
        "import tifffile\n",
        "import numpy as np\n",
        "import pandas as pd\n",
        "import matplotlib.pyplot as plt\n",
        "import seaborn as sns\n",
        "from tqdm import tqdm\n",
        "\n",
        "\n",
        "import torch\n",
        "import torch.nn.functional as F\n",
        "import torch.nn as nn\n",
        "from torch.utils.data import DataLoader, Dataset, WeightedRandomSampler\n",
        "from torchvision.transforms import v2\n",
        "\n",
        "import warnings\n",
        "warnings.filterwarnings(\"ignore\", category=FutureWarning)"
      ],
      "metadata": {
        "id": "RCPjqSClqCey"
      },
      "execution_count": 3,
      "outputs": []
    },
    {
      "cell_type": "code",
      "source": [
        "\n",
        "def load_image_masks(folder_name, file_names):\n",
        "    image_data = []\n",
        "    mask_data = []\n",
        "\n",
        "  # train image path = /gdrive/MyDrive/Solar panel detection/unziped_train/s2_image/train_s2_image_0.tif\n",
        "  # mask path = /gdrive/MyDrive/Solar panel detection/unziped_train/mask/train_mask_0.tif\n",
        "\n",
        "    for fn in tqdm(file_names):\n",
        "        postfix = fn.split(\"_\")[3]\n",
        "        image_path = f\"{folder_name}/s2_image/{fn}\"\n",
        "        mask_path = f\"{folder_name}/mask/train_mask_{postfix}\"\n",
        "\n",
        "        # Check if files exist and are not empty\n",
        "        if os.path.exists(image_path) and os.path.getsize(image_path) > 0:\n",
        "            image_data.append(tifffile.imread(image_path))\n",
        "        else:\n",
        "            print(f\"Warning: Image file not found or empty: {image_path}\")\n",
        "\n",
        "        if os.path.exists(mask_path) and os.path.getsize(mask_path) > 0:\n",
        "            mask_data.append(tifffile.imread(mask_path))\n",
        "        else:\n",
        "            print(f\"Warning: Mask file not found or empty: {mask_path}\")\n",
        "\n",
        "    return image_data, mask_data"
      ],
      "metadata": {
        "id": "mWNQ2Wt2qYir"
      },
      "execution_count": 6,
      "outputs": []
    },
    {
      "cell_type": "code",
      "source": [
        "train_image_files = os.listdir(f'{TRAIN_DATA_FOLDER}s2_image/')     #[:500]\n",
        "train_image_data, train_mask_data = load_image_masks(TRAIN_DATA_FOLDER, train_image_files)"
      ],
      "metadata": {
        "colab": {
          "base_uri": "https://localhost:8080/"
        },
        "id": "CgECnMacqwWF",
        "outputId": "ce387cc1-1ce0-4124-bc52-97b05f393558"
      },
      "execution_count": 7,
      "outputs": [
        {
          "output_type": "stream",
          "name": "stderr",
          "text": [
            " 56%|█████▋    | 1163/2066 [00:25<00:06, 135.94it/s]"
          ]
        },
        {
          "output_type": "stream",
          "name": "stdout",
          "text": [
            "Warning: Mask file not found or empty: /content/drive/MyDrive/Solar panel detection/unziped_train//mask/train_mask_1216.tif\n"
          ]
        },
        {
          "output_type": "stream",
          "name": "stderr",
          "text": [
            "100%|██████████| 2066/2066 [11:14<00:00,  3.06it/s]\n"
          ]
        }
      ]
    },
    {
      "cell_type": "markdown",
      "source": [
        "Images are not the same length so I use [padding] to increase the size and the center crop to have all images of size 32x32. This way all images are the same size but the spatial resolution is not changed like it would be when using resize."
      ],
      "metadata": {
        "id": "VyDKHdXnsp1F"
      }
    },
    {
      "cell_type": "code",
      "source": [
        "train_transforms = v2.Compose([\n",
        "    v2.ToImage(),\n",
        "    v2.Pad((6,6), padding_mode=\"reflect\"),\n",
        "    v2.RandomRotation(degrees=90),\n",
        "    v2.RandomHorizontalFlip(),\n",
        "    v2.RandomVerticalFlip(),\n",
        "    v2.CenterCrop((32,32)),\n",
        "    v2.ToDtype(torch.float32, scale=False),\n",
        "])\n",
        "\n",
        "\n",
        "val_transforms = v2.Compose([\n",
        "    v2.ToImage(),\n",
        "    v2.Pad((6,6), padding_mode=\"reflect\"),\n",
        "    v2.CenterCrop((32,32)),\n",
        "    v2.ToDtype(torch.float32, scale=False),\n",
        "])"
      ],
      "metadata": {
        "id": "SopllNw_q0HD"
      },
      "execution_count": 8,
      "outputs": []
    },
    {
      "cell_type": "code",
      "source": [
        "class ImageTrainDataset(Dataset):\n",
        "    def __init__(\n",
        "        self,\n",
        "        images,\n",
        "        masks,\n",
        "        transforms,\n",
        "    ):\n",
        "        self.images = images\n",
        "        self.masks = masks\n",
        "        self.transforms = transforms\n",
        "\n",
        "    def __len__(self):\n",
        "        return len(self.masks)\n",
        "\n",
        "    def __getitem__(self, index):\n",
        "        image = self.images[index]# / 10_000 # scale by scaling factor\n",
        "        mask = self.masks[index]\n",
        "        mask = np.expand_dims(mask, 2) # [x,y] => [x,y,1]\n",
        "        image, mask = self.transforms(image, mask)\n",
        "\n",
        "        return {\"image\": image, \"mask\": mask}\n",
        "\n",
        "ds = ImageTrainDataset(train_image_data, train_mask_data, transforms=train_transforms)"
      ],
      "metadata": {
        "id": "vzpTpAB4s3QF"
      },
      "execution_count": 9,
      "outputs": []
    },
    {
      "cell_type": "code",
      "source": [
        "def display_data(ds):\n",
        "  for i in range(3):\n",
        "    choice = random.randint(0, len(ds))\n",
        "    fig, axes = plt.subplots(1,3)\n",
        "    print(\"Image, Mask and Image+mask corresponding to training example :\",choice)\n",
        "    d = ds[choice]\n",
        "    axes[0].imshow(d[\"image\"][1:4].permute(1,2,0) / (255*10000))\n",
        "    axes[1].imshow(d[\"mask\"][0]/255)\n",
        "    axes[2].imshow((d[\"mask\"][0] + d[\"image\"][1:4] / 10000).permute(1,2,0))\n",
        "    plt.show()\n",
        "\n",
        "display_data(ds)"
      ],
      "metadata": {
        "colab": {
          "base_uri": "https://localhost:8080/",
          "height": 720
        },
        "id": "jSTiFFils3q7",
        "outputId": "befe58f5-bd6e-4f19-b13d-9c0ff94eea84"
      },
      "execution_count": 10,
      "outputs": [
        {
          "output_type": "stream",
          "name": "stderr",
          "text": [
            "WARNING:matplotlib.image:Clipping input data to the valid range for imshow with RGB data ([0..1] for floats or [0..255] for integers).\n"
          ]
        },
        {
          "output_type": "stream",
          "name": "stdout",
          "text": [
            "Image, Mask and Image+mask corresponding to training example : 1334\n"
          ]
        },
        {
          "output_type": "display_data",
          "data": {
            "text/plain": [
              "<Figure size 640x480 with 3 Axes>"
            ],
            "image/png": "[encoded data removed]"
          },
          "metadata": {}
        },
        {
          "output_type": "stream",
          "name": "stderr",
          "text": [
            "WARNING:matplotlib.image:Clipping input data to the valid range for imshow with RGB data ([0..1] for floats or [0..255] for integers).\n"
          ]
        },
        {
          "output_type": "stream",
          "name": "stdout",
          "text": [
            "Image, Mask and Image+mask corresponding to training example : 1883\n"
          ]
        },
        {
          "output_type": "display_data",
          "data": {
            "text/plain": [
              "<Figure size 640x480 with 3 Axes>"
            ],
            "image/png": "[encoded data removed]"
          },
          "metadata": {}
        },
        {
          "output_type": "stream",
          "name": "stderr",
          "text": [
            "WARNING:matplotlib.image:Clipping input data to the valid range for imshow with RGB data ([0..1] for floats or [0..255] for integers).\n"
          ]
        },
        {
          "output_type": "stream",
          "name": "stdout",
          "text": [
            "Image, Mask and Image+mask corresponding to training example : 980\n"
          ]
        },
        {
          "output_type": "display_data",
          "data": {
            "text/plain": [
              "<Figure size 640x480 with 3 Axes>"
            ],
            "image/png": "[encoded data removed]"
          },
          "metadata": {}
        }
      ]
    },
    {
      "cell_type": "code",
      "source": [],
      "metadata": {
        "id": "bthICeVOvLhq"
      },
      "execution_count": 10,
      "outputs": []
    }
  ]
}